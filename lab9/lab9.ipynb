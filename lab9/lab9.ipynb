{
 "cells": [
  {
   "cell_type": "code",
   "execution_count": 1,
   "id": "0ca39efd",
   "metadata": {},
   "outputs": [],
   "source": [
    "import numpy as np\n",
    "import matplotlib.pyplot as plt\n",
    "import pandas as pd\n",
    "from scipy.cluster.hierarchy import dendrogram, linkage"
   ]
  },
  {
   "cell_type": "code",
   "execution_count": 2,
   "id": "cef1a71f",
   "metadata": {},
   "outputs": [
    {
     "data": {
      "text/plain": [
       "array([[1. , 5.1, 3.5, 1.4, 0.2],\n",
       "       [2. , 4.9, 3. , 1.4, 0.2],\n",
       "       [3. , 4.7, 3.2, 1.3, 0.2],\n",
       "       [4. , 4.6, 3.1, 1.5, 0.2],\n",
       "       [5. , 5. , 3.6, 1.4, 0.2]])"
      ]
     },
     "execution_count": 2,
     "metadata": {},
     "output_type": "execute_result"
    }
   ],
   "source": [
    "df=pd.read_csv('./Iris.csv').values[:5]\n",
    "data=df\n",
    "data"
   ]
  },
  {
   "cell_type": "code",
   "execution_count": 3,
   "id": "6a543a36",
   "metadata": {},
   "outputs": [],
   "source": [
    "def single_linkage(data):\n",
    "    n=data.shape[0]\n",
    "    mat=np.zeros((n,n))\n",
    "    for i in range(n):\n",
    "        for j in range(i+1,n):\n",
    "            mat[i,j]=np.min(np.linalg.norm(data[i]-data[j]))\n",
    "            mat[j,i]=mat[i,j]\n",
    "    return mat\n",
    "def complete_linkage(data):\n",
    "    n=data.shape[0]\n",
    "    mat=np.zeros((n,n))\n",
    "    for i in range(n):\n",
    "        for j in range(i+1,n):\n",
    "            mat[i,j]=np.max(np.linalg.norm(data[i]-data[j]))\n",
    "            mat[j,i]=mat[i,j]\n",
    "    return mat"
   ]
  },
  {
   "cell_type": "code",
   "execution_count": 4,
   "id": "0260acaa",
   "metadata": {},
   "outputs": [
    {
     "name": "stdout",
     "output_type": "stream",
     "text": [
      "[[0.         1.13578167 2.06397674 3.06920185 4.00249922]\n",
      " [1.13578167 0.         1.04403065 2.02731349 3.06104557]\n",
      " [2.06397674 1.04403065 0.         1.02956301 2.06397674]\n",
      " [3.06920185 2.02731349 1.02956301 0.         1.19163753]\n",
      " [4.00249922 3.06104557 2.06397674 1.19163753 0.        ]]\n",
      "\n",
      "[[0.         1.13578167 2.06397674 3.06920185 4.00249922]\n",
      " [1.13578167 0.         1.04403065 2.02731349 3.06104557]\n",
      " [2.06397674 1.04403065 0.         1.02956301 2.06397674]\n",
      " [3.06920185 2.02731349 1.02956301 0.         1.19163753]\n",
      " [4.00249922 3.06104557 2.06397674 1.19163753 0.        ]]\n"
     ]
    }
   ],
   "source": [
    "s=single_linkage(data)\n",
    "print(s)\n",
    "print()\n",
    "c=complete_linkage(data)\n",
    "print(c)"
   ]
  },
  {
   "cell_type": "code",
   "execution_count": 5,
   "id": "3703e567",
   "metadata": {},
   "outputs": [
    {
     "data": {
      "image/png": "[encoded data removed]",
      "text/plain": [
       "<Figure size 720x360 with 1 Axes>"
      ]
     },
     "metadata": {
      "needs_background": "light"
     },
     "output_type": "display_data"
    }
   ],
   "source": [
    "single=linkage(data,method=\"single\")\n",
    "plt.figure(figsize=(10, 5))\n",
    "dendrogram(single)\n",
    "plt.title('Dendrogram - Single Linkage')\n",
    "plt.xlabel('Data Points')\n",
    "plt.ylabel('Distance')\n",
    "plt.show()"
   ]
  },
  {
   "cell_type": "code",
   "execution_count": 6,
   "id": "2e59d764",
   "metadata": {},
   "outputs": [
    {
     "data": {
      "image/png": "[encoded data removed]",
      "text/plain": [
       "<Figure size 720x360 with 1 Axes>"
      ]
     },
     "metadata": {
      "needs_background": "light"
     },
     "output_type": "display_data"
    }
   ],
   "source": [
    "com=linkage(data,method=\"complete\")\n",
    "plt.figure(figsize=(10, 5))\n",
    "dendrogram(com)\n",
    "plt.title('Dendrogram - Complete Linkage')\n",
    "plt.xlabel('Data Points')\n",
    "plt.ylabel('Distance')\n",
    "plt.show()"
   ]
  },
  {
   "cell_type": "code",
   "execution_count": null,
   "id": "7faa6ece",
   "metadata": {},
   "outputs": [],
   "source": []
  }
 ],
 "metadata": {
  "kernelspec": {
   "display_name": "Python 3 (ipykernel)",
   "language": "python",
   "name": "python3"
  },
  "language_info": {
   "codemirror_mode": {
    "name": "ipython",
    "version": 3
   },
   "file_extension": ".py",
   "mimetype": "text/x-python",
   "name": "python",
   "nbconvert_exporter": "python",
   "pygments_lexer": "ipython3",
   "version": "3.10.4"
  }
 },
 "nbformat": 4,
 "nbformat_minor": 5
}
