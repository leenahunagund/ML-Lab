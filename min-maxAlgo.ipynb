{
 "cells": [
  {
   "cell_type": "code",
   "execution_count": 1,
   "id": "d4ae5869-cdca-4f98-856a-d3cb06140c0c",
   "metadata": {},
   "outputs": [],
   "source": [
    "#min-max\n",
    "import math"
   ]
  },
  {
   "cell_type": "code",
   "execution_count": 9,
   "id": "d329bc74-5f52-40f8-8ee9-3fd5eb87fa92",
   "metadata": {},
   "outputs": [
    {
     "name": "stdout",
     "output_type": "stream",
     "text": [
      "Enter the scores list: \n"
     ]
    },
    {
     "name": "stdin",
     "output_type": "stream",
     "text": [
      " 3, 5, 2, 9, 12, 5, 23, 23\n"
     ]
    },
    {
     "name": "stdout",
     "output_type": "stream",
     "text": [
      "The value at level 2 is 5\n",
      "The value at level 2 is 9\n",
      "The value at level 1 is 5\n",
      "The value at level 2 is 12\n",
      "The value at level 2 is 23\n",
      "The value at level 1 is 12\n",
      "The value at level 0 is 12\n",
      "The optimal value of the game is: 12 \n"
     ]
    }
   ],
   "source": [
    "def minimax(depth, nodeIndex, maxTurn, scores, n):\n",
    "    if depth == 0:\n",
    "        return scores[nodeIndex-(2*n+1)]\n",
    "    if maxTurn:\n",
    "        optimal_value = -math.inf\n",
    "        for i in range(1, 3):\n",
    "            optimal_value = max(optimal_value, minimax(depth-1, nodeIndex*2+i, False, scores, n))\n",
    "        print(\"The value at level {} is {}\".format(n-depth, optimal_value))\n",
    "        return optimal_value\n",
    "    else:\n",
    "        optimal_value = math.inf\n",
    "        for i in range(1, 3):\n",
    "            optimal_value = min(optimal_value, minimax(depth-1, nodeIndex*2+i, True, scores, n))\n",
    "        print(\"The value at level {} is {}\".format(n-depth, optimal_value))\n",
    "        return optimal_value\n",
    "print(\"Enter the scores list: \")\n",
    "scores = list(map(int, input().split(\", \")))\n",
    "treeDepth = math.floor(math.log(len(scores), 2))\n",
    "opt_val = minimax(treeDepth, 0, True, scores, treeDepth)\n",
    "print(\"The optimal value of the game is: {} \".format(opt_val))"
   ]
  },
  {
   "cell_type": "code",
   "execution_count": null,
   "id": "cdcd1162-735d-4973-afcd-f8d68d32721c",
   "metadata": {},
   "outputs": [],
   "source": []
  }
 ],
 "metadata": {
  "kernelspec": {
   "display_name": "Python 3 (ipykernel)",
   "language": "python",
   "name": "python3"
  },
  "language_info": {
   "codemirror_mode": {
    "name": "ipython",
    "version": 3
   },
   "file_extension": ".py",
   "mimetype": "text/x-python",
   "name": "python",
   "nbconvert_exporter": "python",
   "pygments_lexer": "ipython3",
   "version": "3.11.7"
  }
 },
 "nbformat": 4,
 "nbformat_minor": 5
}
