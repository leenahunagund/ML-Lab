{
 "cells": [
  {
   "cell_type": "code",
   "execution_count": 1,
   "id": "d4ae5869-cdca-4f98-856a-d3cb06140c0c",
   "metadata": {},
   "outputs": [],
   "source": [
    "#min-max\n",
    "import math"
   ]
  },
  {
   "cell_type": "code",
   "execution_count": 8,
   "id": "d329bc74-5f52-40f8-8ee9-3fd5eb87fa92",
   "metadata": {},
   "outputs": [
    {
     "name": "stdout",
     "output_type": "stream",
     "text": [
      "enter the scores list:\n"
     ]
    },
    {
     "name": "stdin",
     "output_type": "stream",
     "text": [
      " 3, 5, 2, 9, 12, 5, 23, 23\n"
     ]
    },
    {
     "ename": "ValueError",
     "evalue": "invalid literal for int() with base 10: '3,'",
     "output_type": "error",
     "traceback": [
      "\u001b[1;31m---------------------------------------------------------------------------\u001b[0m",
      "\u001b[1;31mValueError\u001b[0m                                Traceback (most recent call last)",
      "Cell \u001b[1;32mIn[8], line 16\u001b[0m\n\u001b[0;32m     14\u001b[0m     \u001b[38;5;28;01mreturn\u001b[39;00m optimal_value\n\u001b[0;32m     15\u001b[0m \u001b[38;5;28mprint\u001b[39m(\u001b[38;5;124m'\u001b[39m\u001b[38;5;124menter the scores list:\u001b[39m\u001b[38;5;124m'\u001b[39m)\n\u001b[1;32m---> 16\u001b[0m scores\u001b[38;5;241m=\u001b[39m\u001b[38;5;28mlist\u001b[39m(\u001b[38;5;28mmap\u001b[39m(\u001b[38;5;28mint\u001b[39m,\u001b[38;5;28minput\u001b[39m()\u001b[38;5;241m.\u001b[39msplit(\u001b[38;5;124m\"\u001b[39m\u001b[38;5;124m \u001b[39m\u001b[38;5;124m\"\u001b[39m)))\n\u001b[0;32m     17\u001b[0m treeDepth\u001b[38;5;241m=\u001b[39mmath\u001b[38;5;241m.\u001b[39mfloor(math\u001b[38;5;241m.\u001b[39mlog(\u001b[38;5;28mlen\u001b[39m(scores),\u001b[38;5;241m2\u001b[39m))\n\u001b[0;32m     18\u001b[0m opt_value\u001b[38;5;241m=\u001b[39mminimax(treeDepth,\u001b[38;5;241m0\u001b[39m,\u001b[38;5;28;01mTrue\u001b[39;00m,scores,treeDepth)\n",
      "\u001b[1;31mValueError\u001b[0m: invalid literal for int() with base 10: '3,'"
     ]
    }
   ],
   "source": [
    "def minimax(depth,nodeItem,maxTurn,scores,n):\n",
    "    if depth==0:\n",
    "        return scores[NodeIndex-(2*n+1)]\n",
    "        if maxTurn:\n",
    "            optimal_value=-math.inf\n",
    "            for i in range(1,3):\n",
    "                optimal_value=max(optimal_value,minimax(depth-1,nodeIndex*2+i,False,scores,n))\n",
    "                print('the value at level {} is ()'.format(n-depth,optimal_value))\n",
    "        else:\n",
    "            optimal_value=math.inf\n",
    "            for i in range(1,3):\n",
    "                optimal_value=min(optimal_value,minimax(depth-1,nodeIndex*2+i,True,scores,n))\n",
    "                print('the value of level {} is {}'.format(n-depth,optimal_value))\n",
    "    return optimal_value\n",
    "print('enter the scores list:')\n",
    "scores=list(map(int,input().split(\" \")))\n",
    "treeDepth=math.floor(math.log(len(scores),2))\n",
    "opt_value=minimax(treeDepth,0,True,scores,treeDepth)\n",
    "print('the optimal value of the given is {}'.format(opt_val))\n",
    "           "
   ]
  },
  {
   "cell_type": "code",
   "execution_count": null,
   "id": "cdcd1162-735d-4973-afcd-f8d68d32721c",
   "metadata": {},
   "outputs": [],
   "source": []
  }
 ],
 "metadata": {
  "kernelspec": {
   "display_name": "Python 3 (ipykernel)",
   "language": "python",
   "name": "python3"
  },
  "language_info": {
   "codemirror_mode": {
    "name": "ipython",
    "version": 3
   },
   "file_extension": ".py",
   "mimetype": "text/x-python",
   "name": "python",
   "nbconvert_exporter": "python",
   "pygments_lexer": "ipython3",
   "version": "3.11.7"
  }
 },
 "nbformat": 4,
 "nbformat_minor": 5
}
