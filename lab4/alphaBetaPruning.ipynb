{
 "cells": [
  {
   "cell_type": "code",
   "execution_count": 1,
   "id": "53dbdb4d-f6b7-40aa-baa3-df571dddb6ef",
   "metadata": {},
   "outputs": [],
   "source": [
    "#alpha beta pruning\n",
    "import math"
   ]
  },
  {
   "cell_type": "code",
   "execution_count": 15,
   "id": "003cdbd6-fcc6-492e-a5ba-351013d058d9",
   "metadata": {},
   "outputs": [
    {
     "name": "stdout",
     "output_type": "stream",
     "text": [
      "Enter the scores list: \n"
     ]
    },
    {
     "name": "stdin",
     "output_type": "stream",
     "text": [
      " 3 5 6 9 1 2 0 -1\n"
     ]
    },
    {
     "name": "stdout",
     "output_type": "stream",
     "text": [
      "The value at level 2 is 5\n",
      "The value at level 2 is 6\n",
      "The value at level 1 is 5\n",
      "The value at level 2 is 2\n",
      "The value at level 1 is 2\n",
      "The value at level 0 is 5\n",
      "The optimal value of the game is: 5 \n"
     ]
    }
   ],
   "source": [
    "def minimax(depth, nodeIndex, maxTurn, scores, n, alpha, beta):\n",
    "    if depth == 0:\n",
    "        return scores[nodeIndex-(2*n+1)] \n",
    "    if maxTurn:\n",
    "        optimal_value = -math.inf\n",
    "        for i in range(1, 3):\n",
    "            optimal_value = max(optimal_value, minimax(depth-1, nodeIndex*2+i, False, scores, n, alpha, beta))\n",
    "            alpha = max(alpha, optimal_value)\n",
    "            if beta <= alpha:\n",
    "                break\n",
    "        print(\"The value at level {} is {}\".format(n-depth, optimal_value))\n",
    "        return optimal_value\n",
    "    else:\n",
    "        optimal_value = math.inf\n",
    "        for i in range(1, 3):\n",
    "            optimal_value = min(optimal_value, minimax(depth-1, nodeIndex*2+i, True, scores, n, alpha, beta))\n",
    "            beta = min(beta, optimal_value)\n",
    "            if beta <= alpha:\n",
    "                break\n",
    "        print(\"The value at level {} is {}\".format(n-depth, optimal_value))\n",
    "        return optimal_value\n",
    "        \n",
    "print(\"Enter the scores list: \")\n",
    "scores = list(map(int, input().split(\" \")))\n",
    "treeDepth = math.floor(math.log(len(scores), 2))\n",
    "opt_val = minimax(treeDepth, 0, True, scores, treeDepth, -math.inf, math.inf)\n",
    "print(\"The optimal value of the game is: {} \".format(opt_val))"
   ]
  },
  {
   "cell_type": "code",
   "execution_count": null,
   "id": "f7787014-5e1a-45af-bd47-1b722b68c446",
   "metadata": {},
   "outputs": [],
   "source": []
  }
 ],
 "metadata": {
  "kernelspec": {
   "display_name": "Python 3 (ipykernel)",
   "language": "python",
   "name": "python3"
  },
  "language_info": {
   "codemirror_mode": {
    "name": "ipython",
    "version": 3
   },
   "file_extension": ".py",
   "mimetype": "text/x-python",
   "name": "python",
   "nbconvert_exporter": "python",
   "pygments_lexer": "ipython3",
   "version": "3.11.7"
  }
 },
 "nbformat": 4,
 "nbformat_minor": 5
}
