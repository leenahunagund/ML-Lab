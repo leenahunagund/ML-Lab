{
  "nbformat": 4,
  "nbformat_minor": 0,
  "metadata": {
    "colab": {
      "provenance": [],
      "authorship_tag": "ABX9TyP/fHpKkLTZagnAoqFo6imx",
      "include_colab_link": true
    },
    "kernelspec": {
      "name": "python3",
      "display_name": "Python 3"
    },
    "language_info": {
      "name": "python"
    }
  },
  "cells": [
    {
      "cell_type": "markdown",
      "metadata": {
        "id": "view-in-github",
        "colab_type": "text"
      },
      "source": [
        "<a href=\"https://colab.research.google.com/github/leenahunagund/ML-Lab/blob/main/lab12.ipynb\" target=\"_parent\"><img src=\"https://colab.research.google.com/assets/colab-badge.svg\" alt=\"Open In Colab\"/></a>"
      ]
    },
    {
      "cell_type": "code",
      "execution_count": 1,
      "metadata": {
        "id": "zqlpm8_0skgW"
      },
      "outputs": [],
      "source": [
        "import numpy as np\n",
        "from keras.models import Sequential\n",
        "from keras.layers import Dense"
      ]
    },
    {
      "cell_type": "code",
      "source": [
        "# AND-NOT function training data\n",
        "and_not_inputs = np.array([[0, 0], [0, 1], [1, 0], [1, 1]])\n",
        "and_not_labels = np.array([1, 0, 0, 0])\n",
        "\n",
        "# XOR function training data\n",
        "xor_inputs = np.array([[0, 0], [0, 1], [1, 0], [1, 1]])\n",
        "xor_labels = np.array([0, 1, 1, 0])"
      ],
      "metadata": {
        "id": "wFgOP9n0sxdA"
      },
      "execution_count": 2,
      "outputs": []
    },
    {
      "cell_type": "code",
      "source": [
        "# Multi-layer perceptron for AND-NOT function\n",
        "and_not_model = Sequential([\n",
        "    Dense(2, input_dim=2, activation='relu'),\n",
        "    Dense(1, activation='sigmoid')\n",
        "])\n",
        "\n",
        "and_not_model.compile(loss='binary_crossentropy', optimizer='adam', metrics=['accuracy'])\n",
        "\n",
        "and_not_model.fit(and_not_inputs, and_not_labels, epochs=1000, verbose=0)\n",
        "\n",
        "# Multi-layer perceptron for XOR function\n",
        "xor_model = Sequential([\n",
        "    Dense(2, input_dim=2, activation='relu'),\n",
        "    Dense(1, activation='sigmoid')\n",
        "])\n",
        "\n",
        "xor_model.compile(loss='binary_crossentropy', optimizer='adam', metrics=['accuracy'])\n",
        "\n",
        "xor_model.fit(xor_inputs, xor_labels, epochs=1000, verbose=0)"
      ],
      "metadata": {
        "colab": {
          "base_uri": "https://localhost:8080/"
        },
        "id": "FIKogYTds85h",
        "outputId": "ca374a8a-23d0-4386-8530-5e46fabe10df"
      },
      "execution_count": 3,
      "outputs": [
        {
          "output_type": "execute_result",
          "data": {
            "text/plain": [
              "<keras.src.callbacks.History at 0x7ec8942efac0>"
            ]
          },
          "metadata": {},
          "execution_count": 3
        }
      ]
    },
    {
      "cell_type": "code",
      "source": [
        "# Test the models\n",
        "def test_model(model, inputs):\n",
        "    predictions = model.predict(inputs)\n",
        "    predictions = [round(pred[0]) for pred in predictions]\n",
        "    return predictions\n",
        "\n",
        "print(\"AND-NOT Model Predictions:\")\n",
        "print(test_model(and_not_model, and_not_inputs))\n",
        "\n",
        "print(\"\\nXOR Model Predictions:\")\n",
        "print(test_model(xor_model, xor_inputs))"
      ],
      "metadata": {
        "colab": {
          "base_uri": "https://localhost:8080/"
        },
        "id": "hbAImUCetARg",
        "outputId": "2add1e59-b925-4c55-c9a9-7a3e221ecd73"
      },
      "execution_count": 4,
      "outputs": [
        {
          "output_type": "stream",
          "name": "stdout",
          "text": [
            "AND-NOT Model Predictions:\n",
            "1/1 [==============================] - 0s 307ms/step\n",
            "[0, 0, 0, 0]\n",
            "\n",
            "XOR Model Predictions:\n",
            "1/1 [==============================] - 0s 146ms/step\n",
            "[0, 1, 1, 0]\n"
          ]
        }
      ]
    },
    {
      "cell_type": "code",
      "source": [
        "r=test_model(and_not_model,[[0,0]])\n",
        "r"
      ],
      "metadata": {
        "colab": {
          "base_uri": "https://localhost:8080/"
        },
        "id": "qOHX1_09tHyA",
        "outputId": "954a8f4c-e801-4311-8ef5-626a5aef6505"
      },
      "execution_count": 5,
      "outputs": [
        {
          "output_type": "stream",
          "name": "stdout",
          "text": [
            "1/1 [==============================] - 0s 38ms/step\n"
          ]
        },
        {
          "output_type": "execute_result",
          "data": {
            "text/plain": [
              "[0]"
            ]
          },
          "metadata": {},
          "execution_count": 5
        }
      ]
    },
    {
      "cell_type": "code",
      "source": [
        "res=test_model(xor_model,[[1,0]])\n",
        "res"
      ],
      "metadata": {
        "colab": {
          "base_uri": "https://localhost:8080/"
        },
        "id": "M4mTylZVtKZQ",
        "outputId": "6b7c2315-cd9d-4bdc-ca74-a4a4515c65ad"
      },
      "execution_count": 6,
      "outputs": [
        {
          "output_type": "stream",
          "name": "stdout",
          "text": [
            "1/1 [==============================] - 0s 160ms/step\n"
          ]
        },
        {
          "output_type": "execute_result",
          "data": {
            "text/plain": [
              "[1]"
            ]
          },
          "metadata": {},
          "execution_count": 6
        }
      ]
    },
    {
      "cell_type": "code",
      "source": [],
      "metadata": {
        "id": "7NRaVCGJtMN_"
      },
      "execution_count": null,
      "outputs": []
    }
  ]
}
