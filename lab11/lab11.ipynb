{
 "cells": [
  {
   "cell_type": "code",
   "execution_count": 1,
   "id": "tired-brave",
   "metadata": {},
   "outputs": [],
   "source": [
    "import numpy as np"
   ]
  },
  {
   "cell_type": "code",
   "execution_count": 2,
   "id": "vietnamese-medicare",
   "metadata": {},
   "outputs": [],
   "source": [
    "class Perceptron:\n",
    "    def __init__(self, input_size, learning_rate=0.1, epochs=100):\n",
    "        self.weights = np.random.rand(input_size)\n",
    "        self.bias = np.random.rand(1)\n",
    "        self.learning_rate = learning_rate\n",
    "        self.epochs = epochs\n",
    "   \n",
    "    def activation_function(self, x):\n",
    "        return 1 if x >= 0 else 0\n",
    "   \n",
    "    def predict(self, inputs):\n",
    "        weighted_sum = np.dot(inputs, self.weights) + self.bias\n",
    "        return self.activation_function(weighted_sum)\n",
    "   \n",
    "    def train(self, training_inputs, labels):\n",
    "        for epoch in range(self.epochs):\n",
    "            for inputs, label in zip(training_inputs, labels):\n",
    "                prediction = self.predict(inputs)\n",
    "                error = label - prediction\n",
    "                self.weights += self.learning_rate * error * inputs\n",
    "                self.bias += self.learning_rate * error"
   ]
  },
  {
   "cell_type": "code",
   "execution_count": 3,
   "id": "arctic-easter",
   "metadata": {},
   "outputs": [],
   "source": [
    "#AND function training data\n",
    "and_inputs=np.array([[0,0],[0,1],[1,0],[1,1]])\n",
    "and_labels=np.array([0,0,0,1])\n",
    "\n",
    "#OR function\n",
    "or_inputs=np.array([[0,0],[0,1],[1,0],[1,1]])\n",
    "or_labels=np.array([0,1,1,1])"
   ]
  },
  {
   "cell_type": "code",
   "execution_count": 4,
   "id": "configured-lesson",
   "metadata": {},
   "outputs": [
    {
     "name": "stdout",
     "output_type": "stream",
     "text": [
      "AND Perceptron before training:\n",
      "Weights: [0.91525188 0.7129493 ]\n",
      "Bias: [0.87284774]\n",
      "\n",
      "AND Perceptron after training:\n",
      "Weights: [0.41525188 0.2129493 ]\n",
      "Bias: [-0.42715226]\n",
      "\n",
      "OR Perceptron before training:\n",
      "Weights: [0.75565215 0.1587212 ]\n",
      "Bias: [0.38682432]\n",
      "\n",
      "OR Perceptron after training:\n",
      "Weights: [0.75565215 0.1587212 ]\n",
      "Bias: [-0.01317568]\n"
     ]
    }
   ],
   "source": [
    "# Creating AND Perceptron\n",
    "and_perceptron = Perceptron(input_size=2)\n",
    "print(\"AND Perceptron before training:\")\n",
    "print(\"Weights:\", and_perceptron.weights)\n",
    "print(\"Bias:\", and_perceptron.bias)\n",
    "\n",
    "# Training AND Perceptron\n",
    "and_perceptron.train(and_inputs, and_labels)\n",
    "\n",
    "print(\"\\nAND Perceptron after training:\")\n",
    "print(\"Weights:\", and_perceptron.weights)\n",
    "print(\"Bias:\", and_perceptron.bias)\n",
    "\n",
    "# Creating OR Perceptron\n",
    "or_perceptron = Perceptron(input_size=2)\n",
    "print(\"\\nOR Perceptron before training:\")\n",
    "print(\"Weights:\", or_perceptron.weights)\n",
    "print(\"Bias:\", or_perceptron.bias)\n",
    "\n",
    "# Training OR Perceptron\n",
    "or_perceptron.train(or_inputs, or_labels)\n",
    "\n",
    "print(\"\\nOR Perceptron after training:\")\n",
    "print(\"Weights:\", or_perceptron.weights)\n",
    "print(\"Bias:\", or_perceptron.bias)"
   ]
  },
  {
   "cell_type": "code",
   "execution_count": 5,
   "id": "thirty-bride",
   "metadata": {},
   "outputs": [
    {
     "data": {
      "text/plain": [
       "1"
      ]
     },
     "execution_count": 5,
     "metadata": {},
     "output_type": "execute_result"
    }
   ],
   "source": [
    "res=and_perceptron.predict([1,1])\n",
    "res"
   ]
  },
  {
   "cell_type": "code",
   "execution_count": 6,
   "id": "level-discount",
   "metadata": {},
   "outputs": [
    {
     "data": {
      "text/plain": [
       "1"
      ]
     },
     "execution_count": 6,
     "metadata": {},
     "output_type": "execute_result"
    }
   ],
   "source": [
    "r=or_perceptron.predict([0,1])\n",
    "r"
   ]
  },
  {
   "cell_type": "code",
   "execution_count": 7,
   "id": "interior-mainland",
   "metadata": {},
   "outputs": [
    {
     "name": "stdout",
     "output_type": "stream",
     "text": [
      "AND Perceptron before training:\n",
      "Weights: [0.64207274 0.39948899 0.72026795]\n",
      "Bias: [0.84824079]\n",
      "\n",
      "AND Perceptron after training:\n",
      "Weights: [0.24207274 0.09948899 0.12026795]\n",
      "Bias: [-0.45175921]\n",
      "\n",
      "OR Perceptron before training:\n",
      "Weights: [0.22345998 0.67679644 0.75892396]\n",
      "Bias: [0.06935858]\n",
      "\n",
      "OR Perceptron after training:\n",
      "Weights: [0.22345998 0.67679644 0.75892396]\n",
      "Bias: [-0.03064142]\n"
     ]
    }
   ],
   "source": [
    "# AND function training data\n",
    "and_inputs = np.array([[0,0,0],[0,0,1],[0,1,0],[0,1,1],[1,0,0],[1,0,1],[1,1,0],[1,1,1]])\n",
    "and_labels = np.array([0, 0, 0, 0,0,0,0,1])\n",
    "\n",
    "# OR function training data\n",
    "or_inputs = np.array([[0,0,0],[0,0,1],[0,1,0],[0,1,1],[1,0,0],[1,0,1],[1,1,0],[1,1,1]])\n",
    "or_labels = np.array([0, 1, 1, 1,1,1,1,1])\n",
    "\n",
    "# Creating AND Perceptron\n",
    "and_perceptron = Perceptron(input_size=3)\n",
    "print(\"AND Perceptron before training:\")\n",
    "print(\"Weights:\", and_perceptron.weights)\n",
    "print(\"Bias:\", and_perceptron.bias)\n",
    "\n",
    "# Training AND Perceptron\n",
    "and_perceptron.train(and_inputs, and_labels)\n",
    "\n",
    "print(\"\\nAND Perceptron after training:\")\n",
    "print(\"Weights:\", and_perceptron.weights)\n",
    "print(\"Bias:\", and_perceptron.bias)\n",
    "\n",
    "# Creating OR Perceptron\n",
    "or_perceptron = Perceptron(input_size=3)\n",
    "print(\"\\nOR Perceptron before training:\")\n",
    "print(\"Weights:\", or_perceptron.weights)\n",
    "print(\"Bias:\", or_perceptron.bias)\n",
    "\n",
    "# Training OR Perceptron\n",
    "or_perceptron.train(or_inputs, or_labels)\n",
    "\n",
    "print(\"\\nOR Perceptron after training:\")\n",
    "print(\"Weights:\", or_perceptron.weights)\n",
    "print(\"Bias:\", or_perceptron.bias)"
   ]
  },
  {
   "cell_type": "code",
   "execution_count": 8,
   "id": "initial-authority",
   "metadata": {},
   "outputs": [
    {
     "data": {
      "text/plain": [
       "0"
      ]
     },
     "execution_count": 8,
     "metadata": {},
     "output_type": "execute_result"
    }
   ],
   "source": [
    "res=and_perceptron.predict([1,0,1])\n",
    "res"
   ]
  },
  {
   "cell_type": "code",
   "execution_count": 9,
   "id": "rising-measurement",
   "metadata": {},
   "outputs": [
    {
     "data": {
      "text/plain": [
       "1"
      ]
     },
     "execution_count": 9,
     "metadata": {},
     "output_type": "execute_result"
    }
   ],
   "source": [
    "r=or_perceptron.predict([0,1,0])\n",
    "r"
   ]
  },
  {
   "cell_type": "code",
   "execution_count": null,
   "id": "rapid-effectiveness",
   "metadata": {},
   "outputs": [],
   "source": []
  }
 ],
 "metadata": {
  "kernelspec": {
   "display_name": "Python 3",
   "language": "python",
   "name": "python3"
  },
  "language_info": {
   "codemirror_mode": {
    "name": "ipython",
    "version": 3
   },
   "file_extension": ".py",
   "mimetype": "text/x-python",
   "name": "python",
   "nbconvert_exporter": "python",
   "pygments_lexer": "ipython3",
   "version": "3.9.2"
  }
 },
 "nbformat": 4,
 "nbformat_minor": 5
}
