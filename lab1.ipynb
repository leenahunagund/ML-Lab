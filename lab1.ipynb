{
 "cells": [
  {
   "cell_type": "code",
   "execution_count": 1,
   "id": "chemical-discretion",
   "metadata": {},
   "outputs": [],
   "source": [
    "import numpy as np"
   ]
  },
  {
   "cell_type": "code",
   "execution_count": 2,
   "id": "german-hartford",
   "metadata": {},
   "outputs": [
    {
     "name": "stdout",
     "output_type": "stream",
     "text": [
      "enter a list:1 2 3\n",
      "enter a number to be appended:4\n",
      "list now: [1, 2, 3, 4]\n",
      "enter a number to be inserted:5\n",
      "enter the position:5\n",
      "list now:[1, 2, 3, 4, 5]\n",
      "enter the value to be updated:2\n",
      "enter the new value:1\n",
      "[1, 2, 3, 4, 5]\n",
      "popped element:5\n",
      "list now: [1, 2, 3, 4]\n",
      "popped element:3\n",
      "list now: [1, 2, 4]\n",
      "enter value to be deleted2\n",
      "[1, 4]\n",
      "sorted array:[1, 4]\n",
      "sorted array:[4, 1]\n",
      "enter the element to be searched:4\n",
      "element found at:1\n",
      "[4, 1]\n"
     ]
    }
   ],
   "source": [
    "#operations on list\n",
    "l=input(\"enter a list:\").split()\n",
    "l=list([int(i) for i in l])\n",
    "\n",
    "#operations on list\n",
    "#inserting an element\n",
    "#qppending/ adding at the end\n",
    "n=int(input(\"enter a number to be appended:\"))\n",
    "l.append(n)\n",
    "print(\"list now: \"+str(l))\n",
    "\n",
    "#adding to a diff position\n",
    "n=int(input(\"enter a number to be inserted:\"))\n",
    "pos=int(input(\"enter the position:\"))\n",
    "l.insert(pos-1,n)\n",
    "print('list now:'+str(l))\n",
    "\n",
    "#updating a value\n",
    "ele=int(input('enter the value to be updated:'))\n",
    "n=int(input('enter the new value:'))\n",
    "if ele in l:\n",
    "    ele=n\n",
    "else:\n",
    "    print('value not present')\n",
    "print(l)\n",
    "        \n",
    "#deleting an element\n",
    "#at the end\n",
    "print('popped element:'+str(l.pop())+'\\nlist now: '+str(l))\n",
    "\n",
    "#at a random place\n",
    "print('popped element:'+str(l.pop(2))+'\\nlist now: '+str(l))\n",
    "\n",
    "#with value\n",
    "n=int(input('enter value to be deleted'))\n",
    "l.remove(n)\n",
    "print(str(l))\n",
    "\n",
    "\n",
    "#sorting the array\n",
    "l.sort()\n",
    "print('sorted array:'+str(l))\n",
    "l.sort(reverse=True)\n",
    "print('sorted array:'+str(l))\n",
    "\n",
    "#searching\n",
    "n=int(input('enter the element to be searched:'))\n",
    "for i in range(len(l)):\n",
    "    if l[i]==n:\n",
    "        print('element found at:'+str(i+1))\n",
    "    else:\n",
    "        continue\n",
    "print(l)"
   ]
  },
  {
   "cell_type": "code",
   "execution_count": 1,
   "id": "direct-stuart",
   "metadata": {},
   "outputs": [
    {
     "name": "stdout",
     "output_type": "stream",
     "text": [
      "enter the tuple values:1 7 2 21 1 3 \n",
      "(1, 7, 2, 21, 1, 3)\n",
      "(1, 1, 2, 3, 7, 21)\n",
      "enter value to be searched:2\n",
      "found at:3\n",
      "[1, 1, 2, 3, 7, 21]\n"
     ]
    }
   ],
   "source": [
    "# operations on tuple\n",
    "t=input('enter the tuple values:').split()\n",
    "t=tuple(map(int,t))\n",
    "print(tuple(t))\n",
    "\n",
    "#cannot insert,delete,update as tuples are immutable\n",
    "#sorting tuples\n",
    "print(tuple(sorted(t)))\n",
    "\n",
    "#searching element in tuple\n",
    "n=int(input('enter value to be searched:'))\n",
    "for i in range(len(t)):\n",
    "    if t[i]==n:\n",
    "        print('found at:'+str(i+1))\n",
    "    else:\n",
    "        continue\n",
    "print(sorted(t))"
   ]
  },
  {
   "cell_type": "code",
   "execution_count": 7,
   "id": "indie-mortgage",
   "metadata": {},
   "outputs": [
    {
     "name": "stdout",
     "output_type": "stream",
     "text": [
      "enter the set:1 7 3 8 \n",
      "{'3', '8', '7', '1'}\n",
      "{'3', '8', '7', '1'}\n"
     ]
    }
   ],
   "source": [
    "# operations on set\n",
    "s=input('enter the set:').split()\n",
    "s=set(s)\n",
    "print((s))\n",
    "\n",
    "#inserting into set\n",
    "s.add('3')\n",
    "print(s)"
   ]
  },
  {
   "cell_type": "code",
   "execution_count": null,
   "id": "incomplete-graduate",
   "metadata": {},
   "outputs": [],
   "source": []
  }
 ],
 "metadata": {
  "kernelspec": {
   "display_name": "Python 3",
   "language": "python",
   "name": "python3"
  },
  "language_info": {
   "codemirror_mode": {
    "name": "ipython",
    "version": 3
   },
   "file_extension": ".py",
   "mimetype": "text/x-python",
   "name": "python",
   "nbconvert_exporter": "python",
   "pygments_lexer": "ipython3",
   "version": "3.9.2"
  }
 },
 "nbformat": 4,
 "nbformat_minor": 5
}
