{
 "cells": [
  {
   "cell_type": "code",
   "execution_count": 1,
   "id": "cd071ce2",
   "metadata": {},
   "outputs": [],
   "source": [
    "import numpy as np"
   ]
  },
  {
   "cell_type": "code",
   "execution_count": 2,
   "id": "5e96d468",
   "metadata": {},
   "outputs": [
    {
     "name": "stdout",
     "output_type": "stream",
     "text": [
      "enter the number of rotations:3\n",
      "enter the array:1 2 3 6 7\n",
      "[6 7 1 2 3]\n"
     ]
    }
   ],
   "source": [
    "#rotate numpy array by left n\n",
    "n=int(input(\"enter the number of rotations:\"))\n",
    "arr=input(\"enter the array:\").split()\n",
    "arr=np.array([int(ele) for ele in arr])\n",
    "newArr=np.concatenate((arr[n:],arr[:n]))\n",
    "print(newArr)"
   ]
  },
  {
   "cell_type": "code",
   "execution_count": 3,
   "id": "ddf8ac4a",
   "metadata": {},
   "outputs": [
    {
     "name": "stdout",
     "output_type": "stream",
     "text": [
      "enter the number of rotations:4\n",
      "enter the array:5 6 7 8 9 1\n",
      "[7 8 9 1 5 6]\n"
     ]
    }
   ],
   "source": [
    "#rotate numpy array by right n\n",
    "n=int(input(\"enter the number of rotations:\"))\n",
    "arr=input(\"enter the array:\").split()\n",
    "arr=np.array([int(ele) for ele in arr])\n",
    "newArr=np.concatenate((arr[-n:],arr[:-n]))\n",
    "print(newArr)"
   ]
  },
  {
   "cell_type": "code",
   "execution_count": 4,
   "id": "cc68ef62",
   "metadata": {},
   "outputs": [
    {
     "name": "stdout",
     "output_type": "stream",
     "text": [
      "enter the items of the tuple1 4 5 6 7\n",
      "smallest item in the tuple: 1 \n",
      "largest item in the tuple: 7\n"
     ]
    }
   ],
   "source": [
    "#smallest,largest item in a tuple\n",
    "t=input(\"enter the items of the tuple\").split()\n",
    "t=tuple(map(int,t))\n",
    "print('smallest item in the tuple: '+str(min(t))+' \\nlargest item in the tuple: '+str(max(t)))"
   ]
  },
  {
   "cell_type": "code",
   "execution_count": 5,
   "id": "caaff790",
   "metadata": {},
   "outputs": [
    {
     "name": "stdout",
     "output_type": "stream",
     "text": [
      "enter the items of the tuple9 8 7 6 5\n",
      "tuple items are: (9, 8, 7, 6, 5) \n",
      "length of the tuple is: 5\n"
     ]
    }
   ],
   "source": [
    "#tuple items and length\n",
    "t=input(\"enter the items of the tuple\").split()\n",
    "t=tuple(map(int,t))\n",
    "print('tuple items are: '+str(t)+' \\nlength of the tuple is: '+str(len(t)))"
   ]
  },
  {
   "cell_type": "code",
   "execution_count": 6,
   "id": "ae8e6273",
   "metadata": {},
   "outputs": [
    {
     "name": "stdout",
     "output_type": "stream",
     "text": [
      "enter the list: oh hello there 1 2 3\n",
      "to string: ohhellothere123 \n",
      "to tuple: ('oh', 'hello', 'there', '1', '2', '3')\n"
     ]
    }
   ],
   "source": [
    "# list to string , list to tuple\n",
    "l=input(\"enter the list:\").split()\n",
    "l=list(l)\n",
    "print('to string: '+''.join([str(ele) for ele in l])+' \\nto tuple: '+str(tuple(l)))"
   ]
  },
  {
   "cell_type": "code",
   "execution_count": 7,
   "id": "8add297b",
   "metadata": {},
   "outputs": [
    {
     "name": "stdout",
     "output_type": "stream",
     "text": [
      "enter any string:hello ladies and gentlemen and kids and young ladies and young gentlemen\n",
      "{'hello': 1, 'ladies': 2, 'and': 4, 'gentlemen': 2, 'kids': 1, 'young': 2}\n"
     ]
    }
   ],
   "source": [
    "#count words using dictionary\n",
    "d={}\n",
    "a=input('enter any string:').split()\n",
    "for ele in a:\n",
    "    if ele not in d:\n",
    "        d[ele]=1\n",
    "    else:\n",
    "        d[ele]+=1\n",
    "print(d)"
   ]
  },
  {
   "cell_type": "code",
   "execution_count": 39,
   "id": "b983b5b7",
   "metadata": {},
   "outputs": [
    {
     "name": "stdout",
     "output_type": "stream",
     "text": [
      "Initial linked list:\n",
      "1 -> 2 -> 5 -> None\n",
      "Linked list after insertion:\n",
      "1 -> 2 -> 3 -> 5 -> None\n",
      "Linked list after prepending:\n",
      "0 -> 1 -> 2 -> 3 -> 5 -> None\n"
     ]
    }
   ],
   "source": [
    "# liniked list in python\n",
    "# Implementation of linked list\n",
    "class Node:\n",
    "    def __init__(self, data):\n",
    "        self.data = data\n",
    "        self.next = None\n",
    "\n",
    "class LinkedList:\n",
    "    def __init__(self):\n",
    "        self.head = None\n",
    "\n",
    "    def append(self, data):\n",
    "        new_node = Node(data)\n",
    "        if self.head is None:\n",
    "            self.head = new_node\n",
    "            return\n",
    "        last_node = self.head\n",
    "        while last_node.next:\n",
    "            last_node = last_node.next\n",
    "        last_node.next = new_node\n",
    "\n",
    "    def prepend(self, data):\n",
    "        new_node = Node(data)\n",
    "        new_node.next = self.head\n",
    "        self.head = new_node\n",
    "\n",
    "    def insert_after(self, prev_node, data):\n",
    "        if prev_node is None:\n",
    "            print(\"Previous node is None ,can't add\")\n",
    "            return\n",
    "        new_node = Node(data)\n",
    "        new_node.next = prev_node.next\n",
    "        prev_node.next = new_node\n",
    "\n",
    "    def display(self):\n",
    "        current = self.head\n",
    "        while current:\n",
    "            print(current.data, end=\" -> \")\n",
    "            current = current.next\n",
    "        print(\"None\")\n",
    "\n",
    "if __name__ == \"__main__\":\n",
    "    # Creating a linked list\n",
    "    linked_list = LinkedList()\n",
    "\n",
    "    # Appending elements to the linked list\n",
    "    linked_list.append(1)\n",
    "    linked_list.append(2)\n",
    "    linked_list.append(5)\n",
    "\n",
    "    # Displaying the linked list\n",
    "    print(\"Initial linked list:\")\n",
    "    linked_list.display()\n",
    "\n",
    "    # Inserting 3 after node 2\n",
    "    linked_list.insert_after(linked_list.head.next, 3)\n",
    "\n",
    "    # Displaying the linked list after insertion\n",
    "    print(\"Linked list after insertion:\")\n",
    "    linked_list.display()\n",
    "\n",
    "    # Inserting 0 at the beginning\n",
    "    linked_list.prepend(0)\n",
    "\n",
    "    # Displaying the linked list after prepending\n",
    "    print(\"Linked list after prepending:\")\n",
    "    linked_list.display()"
   ]
  },
  {
   "cell_type": "code",
   "execution_count": 48,
   "id": "b04dce58",
   "metadata": {},
   "outputs": [
    {
     "name": "stdout",
     "output_type": "stream",
     "text": [
      "array after appending: [1, 2, 3]\n",
      "the popped element is: 3\n",
      "array now: [1, 2]\n",
      "index of element 1 in the array is: 0\n",
      "array after removing 2 from the  [1]\n"
     ]
    }
   ],
   "source": [
    "# array operations\n",
    "arr=[]\n",
    "\n",
    "#appending elements to the array\n",
    "arr.append(1)\n",
    "arr.append(2)\n",
    "arr.append(3)\n",
    "\n",
    "print('array after appending: '+str(arr))\n",
    "\n",
    "#popping the last element of the array\n",
    "print('the popped element is: '+str(arr.pop()))\n",
    "print('array now: '+str(arr))\n",
    "\n",
    "#getting index of any random element\n",
    "print('index of element 1 in the array is: '+str(arr.index(1)))\n",
    "\n",
    "#removing an element from the array\n",
    "arr.remove(2)\n",
    "print('array after removing 2 from the  '+str(arr))"
   ]
  },
  {
   "cell_type": "code",
   "execution_count": 49,
   "id": "4bdc98fb",
   "metadata": {},
   "outputs": [
    {
     "name": "stdout",
     "output_type": "stream",
     "text": [
      "Inorder Traversal of the BST:\n",
      "20 30 40 50 60 70 80 "
     ]
    }
   ],
   "source": [
    "# BST in python\n",
    "class TreeNode:\n",
    "    def __init__(self, key):\n",
    "        self.val = key\n",
    "        self.left = None\n",
    "        self.right = None\n",
    "\n",
    "class BST:\n",
    "    def __init__(self):\n",
    "        self.root = None\n",
    "\n",
    "    def insert(self, root, key):\n",
    "        if root is None:\n",
    "            return TreeNode(key)\n",
    "        else:\n",
    "            if root.val < key:\n",
    "                root.right = self.insert(root.right, key)\n",
    "            else:\n",
    "                root.left = self.insert(root.left, key)\n",
    "        return root\n",
    "\n",
    "    def inorder_traversal(self, root):\n",
    "        if root:\n",
    "            self.inorder_traversal(root.left)\n",
    "            print(root.val, end=\" \")\n",
    "            self.inorder_traversal(root.right)\n",
    "\n",
    "if __name__ == \"__main__\":\n",
    "    bst = BST()\n",
    "    elements = [50, 30, 20, 40, 70, 60, 80]\n",
    "\n",
    "    for element in elements:\n",
    "        bst.root = bst.insert(bst.root, element)\n",
    "\n",
    "    # Perform inorder traversal to print the elements in sorted order\n",
    "    print(\"Inorder Traversal of the BST:\")\n",
    "    bst.inorder_traversal(bst.root)"
   ]
  },
  {
   "cell_type": "code",
   "execution_count": 50,
   "id": "3cddf700",
   "metadata": {},
   "outputs": [
    {
     "name": "stdout",
     "output_type": "stream",
     "text": [
      "Following is the Depth-First Search\n",
      "5->3->2->4->8->7->Null\n"
     ]
    }
   ],
   "source": [
    "# DFS in python\n",
    "\n",
    "# Using a Python dictionary to act as an adjacency list\n",
    "graph = {\n",
    "  '5' : ['3','7'],\n",
    "  '3' : ['2', '4'],\n",
    "  '7' : ['8'],\n",
    "  '2' : [],\n",
    "  '4' : ['8'],\n",
    "  '8' : []\n",
    "}\n",
    "\n",
    "visited = set() # Set to keep track of visited nodes of graph.\n",
    "\n",
    "def dfs(visited, graph, node):  #function for dfs \n",
    "    if node not in visited:\n",
    "        print (node, end=\"->\")\n",
    "        visited.add(node)\n",
    "        for neighbour in graph[node]:\n",
    "            dfs(visited, graph, neighbour)\n",
    "\n",
    "# Driver Code\n",
    "print(\"Following is the Depth-First Search\")\n",
    "dfs(visited, graph, '5')\n",
    "print(\"Null\")"
   ]
  },
  {
   "cell_type": "code",
   "execution_count": null,
   "id": "7b02fd45",
   "metadata": {},
   "outputs": [],
   "source": []
  }
 ],
 "metadata": {
  "kernelspec": {
   "display_name": "Python 3 (ipykernel)",
   "language": "python",
   "name": "python3"
  },
  "language_info": {
   "codemirror_mode": {
    "name": "ipython",
    "version": 3
   },
   "file_extension": ".py",
   "mimetype": "text/x-python",
   "name": "python",
   "nbconvert_exporter": "python",
   "pygments_lexer": "ipython3",
   "version": "3.10.9"
  }
 },
 "nbformat": 4,
 "nbformat_minor": 5
}
